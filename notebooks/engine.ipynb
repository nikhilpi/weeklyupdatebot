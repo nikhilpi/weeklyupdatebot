{
 "cells": [
  {
   "cell_type": "code",
   "execution_count": 3,
   "metadata": {},
   "outputs": [],
   "source": [
    "from langchain.embeddings.openai import OpenAIEmbeddings\n",
    "from langchain.vectorstores import Chroma\n",
    "from langchain.text_splitter import CharacterTextSplitter\n",
    "from langchain import OpenAI, VectorDBQAWithSourcesChain\n",
    "import os\n",
    "from langchain.document_loaders import UnstructuredHTMLLoader\n",
    "from langchain.agents import initialize_agent, Tool\n",
    "from langchain.tools import BaseTool\n",
    "from langchain.llms import OpenAI\n",
    "from langchain import PromptTemplate\n",
    "\n",
    "\n",
    "class Weeklupdate:\n",
    "  def __init__(self):\n",
    "    self.llm = OpenAI(temperature=0)\n",
    "    self.documents = self.load_documents()\n",
    "    self.db = self.setup_db()\n",
    "    self.agent = self.create_agent()\n",
    "\n",
    "  def load_documents(self):\n",
    "    documents = []\n",
    "    file_names = os.listdir(\"../data/weekly_updates\")\n",
    "    for file_name in file_names:\n",
    "      loader = UnstructuredHTMLLoader(\"../data/weekly_updates/\" + file_name)\n",
    "      document = loader.load()\n",
    "      document[0].metadata[\"date\"] = file_name[0:10]\n",
    "      document[0].metadata[\"month\"] = file_name[5:7]\n",
    "      documents += document\n",
    "    return documents\n",
    "  \n",
    "  def setup_db(self):\n",
    "    persist_directory = '../data'\n",
    "    embeddings = OpenAIEmbeddings()\n",
    "\n",
    "    text_splitter = CharacterTextSplitter(chunk_size=1000, chunk_overlap=0)\n",
    "    texts = text_splitter.split_documents(self.documents)\n",
    "    docsearch = Chroma.from_documents(texts, embeddings, collection_name=\"weeklyupdatesv3\", persist_directory=persist_directory)\n",
    "    return docsearch\n",
    "\n",
    "  def create_agent(self):\n",
    "    tools = [\n",
    "        Tool(\n",
    "            name = \"Weekly Update QA System\",\n",
    "            func= VectorDBQAWithSourcesChain.from_chain_type(llm=self.llm, chain_type=\"map_reduce\", vectorstore=self.db, search_kwargs={\"filter\": {\"month\":  \"01\"}}),\n",
    "            description=\"useful for when you need to answer questions about what Anthony the CEO said in a weekly update emails to the company. Input should be a fully formed question.\"\n",
    "        )\n",
    "    ]\n",
    "    agent = initialize_agent(tools, self.llm, agent=\"zero-shot-react-description\", verbose=True)\n",
    "    return agent\n",
    "  \n",
    "  def query_agent(self, query):\n",
    "    template = \"\"\"\n",
    "    You are helping someone understand a startup names Hearth better. You have access to all the weekly update emails send by the CEO. These emails are dated.\n",
    "    The question you receive is: {query}\\n\n",
    "    Please give your sources.\n",
    "    \"\"\"\n",
    "    question_prompt = PromptTemplate(\n",
    "      input_variables=[\"query\"], \n",
    "      template=template\n",
    "    )\n",
    "    prompt_with_query = question_prompt.format(query=query)\n",
    "    return self.agent.run(prompt_with_query)\n",
    "\n"
   ]
  },
  {
   "cell_type": "code",
   "execution_count": 4,
   "metadata": {},
   "outputs": [
    {
     "name": "stdout",
     "output_type": "stream",
     "text": [
      "Running Chroma using direct local API.\n",
      "loaded in 3292 embeddings\n",
      "loaded in 3 collections\n",
      "collection with name weeklyupdatesv3 already exists, returning existing collection\n"
     ]
    }
   ],
   "source": [
    "agent = Weeklupdate()\n",
    "\n"
   ]
  },
  {
   "cell_type": "code",
   "execution_count": 5,
   "metadata": {},
   "outputs": [
    {
     "name": "stdout",
     "output_type": "stream",
     "text": [
      "{'source': '../data/weekly_updates/2018-06-24T10-32 [anthony@shoguninc.com] Weekly Update.html', 'date': '2018-06-24', 'month': '06'}\n",
      "Feel confident offering it [combatting uncertainty of not knowing rate plans upfront]\n",
      "\n",
      "See the value of successful use.\n",
      "\n",
      "Hope this is helpful food for thought for everyone. Let me know if you have any questions, thoughts or additions to this, its going to become a critical operational framework, so I'd really welcome anything we hadnt thought of.\n",
      "\n",
      "Anthony\n",
      "\n",
      "{'source': '../data/weekly_updates/2018-06-24T10-32 [anthony@shoguninc.com] Weekly Update.html', 'date': '2018-06-24', 'month': '06'}\n",
      "Feel confident offering it [combatting uncertainty of not knowing rate plans upfront]\n",
      "\n",
      "See the value of successful use.\n",
      "\n",
      "Hope this is helpful food for thought for everyone. Let me know if you have any questions, thoughts or additions to this, its going to become a critical operational framework, so I'd really welcome anything we hadnt thought of.\n",
      "\n",
      "Anthony\n",
      "\n"
     ]
    }
   ],
   "source": [
    "docs = agent.db.similarity_search(\"What did Anthony think about the fund rate?\")\n",
    "for doc in docs:\n",
    "  print(doc.metadata)\n",
    "  print(doc.page_content)\n",
    "  print() \n"
   ]
  },
  {
   "cell_type": "code",
   "execution_count": 6,
   "metadata": {},
   "outputs": [
    {
     "name": "stdout",
     "output_type": "stream",
     "text": [
      "\n",
      "\n",
      "\u001b[1m> Entering new AgentExecutor chain...\u001b[0m\n",
      "\u001b[32;1m\u001b[1;3m I need to find out what Anthony said about the fund rate in the weekly update emails.\n",
      "Action: Weekly Update QA System\n",
      "Action Input: What did Anthony say about the fund rate?\u001b[0m\n",
      "Observation: \u001b[36;1m\u001b[1;3m{'question': 'What did Anthony say about the fund rate?', 'answer': ' Anthony did not mention the fund rate.\\n', 'sources': '../data/weekly_updates/2017-06-25T11-06 [anthony@shoguninc.com] Weekly Note.html'}\u001b[0m\n",
      "Thought:\u001b[32;1m\u001b[1;3m I now know the final answer\n",
      "Final Answer: Anthony did not mention the fund rate in the weekly update emails. The source is the email dated 2017-06-25T11-06 from anthony@shoguninc.com.\u001b[0m\n",
      "\n",
      "\u001b[1m> Finished chain.\u001b[0m\n"
     ]
    },
    {
     "data": {
      "text/plain": [
       "'Anthony did not mention the fund rate in the weekly update emails. The source is the email dated 2017-06-25T11-06 from anthony@shoguninc.com.'"
      ]
     },
     "execution_count": 6,
     "metadata": {},
     "output_type": "execute_result"
    }
   ],
   "source": [
    "agent.query_agent(\"What did Anthony think about the fund rate?\")"
   ]
  }
 ],
 "metadata": {
  "kernelspec": {
   "display_name": "Python 3",
   "language": "python",
   "name": "python3"
  },
  "language_info": {
   "codemirror_mode": {
    "name": "ipython",
    "version": 3
   },
   "file_extension": ".py",
   "mimetype": "text/x-python",
   "name": "python",
   "nbconvert_exporter": "python",
   "pygments_lexer": "ipython3",
   "version": "3.10.4"
  },
  "orig_nbformat": 4
 },
 "nbformat": 4,
 "nbformat_minor": 2
}
